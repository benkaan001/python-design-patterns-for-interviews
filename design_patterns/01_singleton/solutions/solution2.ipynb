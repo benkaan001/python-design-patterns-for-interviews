{
 "cells": [
  {
   "cell_type": "code",
   "execution_count": 1,
   "id": "f070423e",
   "metadata": {},
   "outputs": [
    {
     "name": "stdout",
     "output_type": "stream",
     "text": [
      "Creating a new ApplicationSettings instance...\n",
      "Initialization complete\n",
      "Using existing ApplicationSettings instance...\n"
     ]
    }
   ],
   "source": [
    "import time\n",
    "\n",
    "class ApplicationSettings:\n",
    "    _instance: 'ApplicationSettings' = None\n",
    "\n",
    "    def __new__(cls) -> 'ApplicationSettings':\n",
    "        if not cls._instance:\n",
    "            print(\"Creating a new ApplicationSettings instance...\")\n",
    "            time.sleep(1)\n",
    "            print(\"Initialization complete\")\n",
    "            instance = super(cls, ApplicationSettings).__new__(cls)\n",
    "            cls._instance = instance\n",
    "        else:\n",
    "            print(\"Using existing ApplicationSettings instance...\")\n",
    "\n",
    "        return cls._instance\n",
    "\n",
    "app1 = ApplicationSettings()\n",
    "app2 = ApplicationSettings()\n"
   ]
  },
  {
   "cell_type": "code",
   "execution_count": 2,
   "id": "848cc312",
   "metadata": {},
   "outputs": [
    {
     "name": "stdout",
     "output_type": "stream",
     "text": [
      "Creating a new ApplicationSettings instance...\n",
      "Initialization complete\n",
      "Initializing a new instance with default settings... \n",
      "Using existing ApplicationSettings instance...\n",
      "Initializing a new instance with default settings... \n"
     ]
    }
   ],
   "source": [
    "import time\n",
    "from typing import Any\n",
    "\n",
    "class ApplicationSettings:\n",
    "    _instance: 'ApplicationSettings' = None\n",
    "    _initialized: bool = False\n",
    "\n",
    "    def __new__(cls) -> 'ApplicationSettings':\n",
    "        if not cls._instance:\n",
    "            print(\"Creating a new ApplicationSettings instance...\")\n",
    "            time.sleep(1)\n",
    "            print(\"Initialization complete\")\n",
    "            instance = super(cls, ApplicationSettings).__new__(cls)\n",
    "            cls._instance = instance\n",
    "        else:\n",
    "            print(\"Using existing ApplicationSettings instance...\")\n",
    "        return cls._instance\n",
    "\n",
    "    def __init__(self):\n",
    "        if not self._initialized:\n",
    "            print(\"Initializing a new instance with default settings... \")\n",
    "            self._settings: dict[str, Any] = {\n",
    "                \"theme\": \"dark\",\n",
    "                \"default_path\": \"/home/user/documents\",\n",
    "                \"recent_files\": []}\n",
    "        else:\n",
    "            print(\"Objecrt alreay initialized\")\n",
    "\n",
    "app1 = ApplicationSettings()\n",
    "app2 = ApplicationSettings()\n"
   ]
  },
  {
   "cell_type": "code",
   "execution_count": 3,
   "id": "f7c3898f",
   "metadata": {},
   "outputs": [
    {
     "name": "stdout",
     "output_type": "stream",
     "text": [
      "Creating a new ApplicationSettings instance...\n",
      "Intializing a new instance with default settings..\n",
      "Initialization complete\n"
     ]
    }
   ],
   "source": [
    "import time\n",
    "from typing import Any\n",
    "\n",
    "class ApplicationSettings:\n",
    "    _instance: 'ApplicationSettings' = None\n",
    "    _initialized: bool = False\n",
    "\n",
    "    def __new__(cls) -> 'ApplicationSettings':\n",
    "        if not cls._instance:\n",
    "            print(\"Creating a new ApplicationSettings instance...\")\n",
    "            instance = super().__new__(cls)\n",
    "            cls._instance = instance\n",
    "        else:\n",
    "            print(\"Using existing ApplicationSettings instance...\")\n",
    "        return cls._instance\n",
    "\n",
    "    def __init__(self) -> None:\n",
    "        default_settings: dict[str, Any] = {\n",
    "            \"theme\": \"dark\",\n",
    "            \"default_path\": \"/home/user/documents\",\n",
    "            \"recent_files\": []}\n",
    "        if not self._initialized:\n",
    "            print(f\"Intializing a new instance with default settings..\")\n",
    "            time.sleep(1)\n",
    "            self._settings = default_settings\n",
    "            self._initialized = True\n",
    "            print(\"Initialization complete\")\n",
    "        else:\n",
    "            print(\"Object already initialized\")\n",
    "\n",
    "    def get_setting(self, key: str) -> Any:\n",
    "        return self._settings[key]\n",
    "\n",
    "    def set_setting(self, key: str, value: Any):\n",
    "        if key in self._settings:\n",
    "            print(f\"Updating exiting setting for {key} from {self._settings.get(key)} to new setting value: {value}\")\n",
    "        else:\n",
    "            print(\"Setting update complete\")\n",
    "        self._settings[key] = value\n",
    "\n",
    "    def get_all_settings(self) -> dict[str, Any]:\n",
    "        return self._settings.copy()\n",
    "\n",
    "app1 = ApplicationSettings()\n"
   ]
  },
  {
   "cell_type": "code",
   "execution_count": 4,
   "id": "8a7d863b",
   "metadata": {},
   "outputs": [
    {
     "name": "stdout",
     "output_type": "stream",
     "text": [
      "Using existing ApplicationSettings instance...\n",
      "Object already initialized\n"
     ]
    }
   ],
   "source": [
    "app2 = ApplicationSettings()"
   ]
  },
  {
   "cell_type": "code",
   "execution_count": 5,
   "id": "79c65232",
   "metadata": {},
   "outputs": [
    {
     "name": "stdout",
     "output_type": "stream",
     "text": [
      "Updating exiting setting for theme from dark to new setting value: light_modern\n"
     ]
    }
   ],
   "source": [
    "app1.set_setting(key='theme', value=\"light_modern\")"
   ]
  },
  {
   "cell_type": "code",
   "execution_count": 6,
   "id": "e5f4d116",
   "metadata": {},
   "outputs": [
    {
     "data": {
      "text/plain": [
       "{'theme': 'light_modern',\n",
       " 'default_path': '/home/user/documents',\n",
       " 'recent_files': []}"
      ]
     },
     "execution_count": 6,
     "metadata": {},
     "output_type": "execute_result"
    }
   ],
   "source": [
    "app1.get_all_settings()"
   ]
  },
  {
   "cell_type": "code",
   "execution_count": 7,
   "id": "2053ee5e",
   "metadata": {},
   "outputs": [
    {
     "data": {
      "text/plain": [
       "True"
      ]
     },
     "execution_count": 7,
     "metadata": {},
     "output_type": "execute_result"
    }
   ],
   "source": [
    "app2 is app1"
   ]
  },
  {
   "cell_type": "code",
   "execution_count": 8,
   "id": "fc3444d5",
   "metadata": {},
   "outputs": [
    {
     "data": {
      "text/plain": [
       "{'theme': 'light_modern',\n",
       " 'default_path': '/home/user/documents',\n",
       " 'recent_files': []}"
      ]
     },
     "execution_count": 8,
     "metadata": {},
     "output_type": "execute_result"
    }
   ],
   "source": [
    "app2.get_all_settings()"
   ]
  },
  {
   "cell_type": "code",
   "execution_count": 9,
   "id": "caefb9d8",
   "metadata": {},
   "outputs": [
    {
     "name": "stdout",
     "output_type": "stream",
     "text": [
      "Creating a new ApplicationSettings instance...\n",
      "Intializing a new instance with default settings..\n",
      "Initialization complete\n",
      "Using existing ApplicationSettings instance...\n",
      "Object already initialized\n",
      "Using existing ApplicationSettings instance...\n",
      "Object already initialized\n",
      "Updating exiting setting for theme from dark to new setting value: light_modern\n",
      "\n",
      "--- Verifying Singleton Behavior ---\n",
      "Are app1 and app2 the same object? True\n",
      "Are app1 and app3 the same object? True\n",
      "\n",
      "--- All Settings (from app1's perspective) ---\n",
      "theme: light_modern\n",
      "default_path: /home/user/documents\n",
      "recent_files: []\n",
      "\n",
      "--- All Settings (from app2's perspective) ---\n",
      "theme: light_modern\n",
      "default_path: /home/user/documents\n",
      "recent_files: []\n",
      "\n",
      "--- All Settings (from app3's perspective) ---\n",
      "theme: light_modern\n",
      "default_path: /home/user/documents\n",
      "recent_files: []\n"
     ]
    }
   ],
   "source": [
    "import time\n",
    "from typing import Any\n",
    "\n",
    "class ApplicationSettings:\n",
    "    _instance: 'ApplicationSettings' = None\n",
    "    _initialized: bool = False\n",
    "\n",
    "    def __new__(cls) -> 'ApplicationSettings':\n",
    "        if not cls._instance:\n",
    "            print(\"Creating a new ApplicationSettings instance...\")\n",
    "            instance = super().__new__(cls)\n",
    "            cls._instance = instance\n",
    "        else:\n",
    "            print(\"Using existing ApplicationSettings instance...\")\n",
    "        return cls._instance\n",
    "\n",
    "    def __init__(self) -> None:\n",
    "        default_settings: dict[str, Any] = {\n",
    "            \"theme\": \"dark\",\n",
    "            \"default_path\": \"/home/user/documents\",\n",
    "            \"recent_files\": []}\n",
    "        if not self._initialized:\n",
    "            print(f\"Intializing a new instance with default settings..\")\n",
    "            time.sleep(1)\n",
    "            self._settings = default_settings\n",
    "            self._initialized = True\n",
    "            print(\"Initialization complete\")\n",
    "        else:\n",
    "            print(\"Object already initialized\")\n",
    "\n",
    "    def get_setting(self, key: str) -> Any:\n",
    "        return self._settings[key]\n",
    "\n",
    "    def set_setting(self, key: str, value: Any):\n",
    "        if key in self._settings:\n",
    "            print(f\"Updating exiting setting for {key} from {self._settings.get(key)} to new setting value: {value}\")\n",
    "        else:\n",
    "            print(\"Setting update complete\")\n",
    "        self._settings[key] = value\n",
    "\n",
    "    def get_all_settings(self) -> dict[str, Any]:\n",
    "        return self._settings.copy()\n",
    "\n",
    "app1 = ApplicationSettings()\n",
    "app2 = ApplicationSettings()\n",
    "app3 = ApplicationSettings()\n",
    "\n",
    "app1.set_setting(key='theme', value=\"light_modern\")\n",
    "\n",
    "print(\"\\n--- Verifying Singleton Behavior ---\")\n",
    "print(f\"Are app1 and app2 the same object? {app1 is app2}\")\n",
    "print(f\"Are app1 and app3 the same object? {app1 is app3}\")\n",
    "\n",
    "print(\"\\n--- All Settings (from app1's perspective) ---\")\n",
    "for key, value in app1.get_all_settings().items():\n",
    "    print(f\"{key}: {value}\")\n",
    "\n",
    "print(\"\\n--- All Settings (from app2's perspective) ---\")\n",
    "for key, value in app2.get_all_settings().items():\n",
    "    print(f\"{key}: {value}\")\n",
    "\n",
    "print(\"\\n--- All Settings (from app3's perspective) ---\")\n",
    "for key, value in app3.get_all_settings().items():\n",
    "    print(f\"{key}: {value}\")\n"
   ]
  }
 ],
 "metadata": {
  "kernelspec": {
   "display_name": "venv",
   "language": "python",
   "name": "python3"
  },
  "language_info": {
   "codemirror_mode": {
    "name": "ipython",
    "version": 3
   },
   "file_extension": ".py",
   "mimetype": "text/x-python",
   "name": "python",
   "nbconvert_exporter": "python",
   "pygments_lexer": "ipython3",
   "version": "3.13.1"
  }
 },
 "nbformat": 4,
 "nbformat_minor": 5
}
