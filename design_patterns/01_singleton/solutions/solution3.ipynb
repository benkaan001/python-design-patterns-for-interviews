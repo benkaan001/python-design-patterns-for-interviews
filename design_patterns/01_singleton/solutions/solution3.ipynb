{
 "cells": [
  {
   "cell_type": "code",
   "execution_count": 11,
   "id": "426bbd87",
   "metadata": {},
   "outputs": [
    {
     "name": "stdout",
     "output_type": "stream",
     "text": [
      "[Thread-0] Acquired: Res-1\n",
      "[Thread-0] Released: Res-1\n",
      "[Thread-1] Acquired: Res-2\n",
      "[Thread-1] Released: Res-2\n",
      "[Thread-2] Acquired: Res-3\n",
      "[Thread-2] Released: Res-3\n",
      "[Thread-3] Acquired: Res-1\n",
      "[Thread-3] Released: Res-1\n",
      "[Thread-4] Acquired: Res-2\n",
      "[Thread-4] Released: Res-2\n",
      "\n",
      "--- Final Pool Status ---\n",
      "Avail: 3. In Use: 0.\n"
     ]
    }
   ],
   "source": [
    "import threading\n",
    "\n",
    "class ThreadSafeResourcePool:\n",
    "    _instance: 'ThreadSafeResourcePool' = None\n",
    "    _lock = threading.Lock()\n",
    "    _initialized = False\n",
    "\n",
    "    def __new__(cls, *arg, **kwargs):\n",
    "        with cls._lock:\n",
    "            if cls._instance is None:\n",
    "                cls._instance = super().__new__(cls)\n",
    "        return cls._instance\n",
    "\n",
    "    def __init__(self, size=3):\n",
    "        if not self._initialized:\n",
    "            with self._lock:\n",
    "                if not self._initialized:\n",
    "                    self.available_resources = [f\"Res-{i+1}\" for i in range(size)]\n",
    "                    self.resources_in_use = []\n",
    "                    self._initialized = True\n",
    "\n",
    "    def acquire_resource(self):\n",
    "        with self._lock:\n",
    "            if not self.available_resources:\n",
    "                print(f\"[{threading.current_thread().name}] Pool empty!\")\n",
    "                return None\n",
    "            resource = self.available_resources.pop(0)\n",
    "            self.resources_in_use.append(resource)\n",
    "            print(f\"[{threading.current_thread().name}] Acquired: {resource}\")\n",
    "            return resource\n",
    "\n",
    "    def release_resource(self, resource):\n",
    "        with self._lock:\n",
    "            if resource not in self.resources_in_use:\n",
    "                print(f\"[{threading.current_thread().name}] Warning: Resource {resource} not in use.\")\n",
    "                return\n",
    "            self.resources_in_use.remove(resource)\n",
    "            self.available_resources.append(resource)\n",
    "            print(f\"[{threading.current_thread().name}] Released: {resource}\")\n",
    "\n",
    "    def get_pool_status(self):\n",
    "        with self._lock:\n",
    "            return f\"Avail: {len(self.available_resources)}. In Use: {len(self.resources_in_use)}.\"\n",
    "\n",
    "def worker_function(thread_id):\n",
    "    threading.current_thread().name = f\"Thread-{thread_id}\"\n",
    "    pool = ThreadSafeResourcePool(size=3)\n",
    "    res = pool.acquire_resource()\n",
    "    if res:\n",
    "        pool.release_resource(res)\n",
    "\n",
    "num_threads = 5\n",
    "threads = [threading.Thread(target=worker_function, args=(i,)) for i in range(num_threads)]\n",
    "for t in threads:\n",
    "    t.start()\n",
    "for t in threads:\n",
    "    t.join()\n",
    "\n",
    "pool = ThreadSafeResourcePool()\n",
    "print(\"\\n--- Final Pool Status ---\")\n",
    "print(pool.get_pool_status())"
   ]
  }
 ],
 "metadata": {
  "kernelspec": {
   "display_name": "venv",
   "language": "python",
   "name": "python3"
  },
  "language_info": {
   "codemirror_mode": {
    "name": "ipython",
    "version": 3
   },
   "file_extension": ".py",
   "mimetype": "text/x-python",
   "name": "python",
   "nbconvert_exporter": "python",
   "pygments_lexer": "ipython3",
   "version": "3.13.1"
  }
 },
 "nbformat": 4,
 "nbformat_minor": 5
}
