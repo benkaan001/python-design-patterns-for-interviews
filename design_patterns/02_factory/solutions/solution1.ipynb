{
 "cells": [
  {
   "cell_type": "code",
   "execution_count": 1,
   "id": "0bab526e",
   "metadata": {},
   "outputs": [
    {
     "data": {
      "text/plain": [
       "'Displaying dialog with: Rendering a Windows Button.'"
      ]
     },
     "execution_count": 1,
     "metadata": {},
     "output_type": "execute_result"
    }
   ],
   "source": [
    "from abc import ABC, abstractmethod\n",
    "\n",
    "class UIElement(ABC):\n",
    "    @abstractmethod\n",
    "    def render(self) -> str:\n",
    "        pass\n",
    "\n",
    "class WindowsButton(UIElement):\n",
    "    def render(self) -> str:\n",
    "        return \"Rendering a Windows Button.\"\n",
    "\n",
    "class MacOSButton(UIElement):\n",
    "    def render(self) -> str:\n",
    "        return \"Rendering a MacOS Button.\"\n",
    "\n",
    "class LinuxButton(UIElement):\n",
    "    def render(self) -> str:\n",
    "        return \"Rendering a Linux Button.\"\n",
    "\n",
    "\n",
    "class UIElementCreator(ABC):\n",
    "    @abstractmethod\n",
    "    def create_button(self) -> UIElement:\n",
    "        pass\n",
    "\n",
    "    def display_dialog(self) -> str:\n",
    "        button = self.create_button()\n",
    "        result = button.render()\n",
    "        return f\"Displaying dialog with: {result}\"\n",
    "\n",
    "class WindowsCreator(UIElementCreator):\n",
    "    def create_button(self) -> WindowsButton:\n",
    "        return WindowsButton()\n",
    "\n",
    "class MacOSCreator(UIElementCreator):\n",
    "    def create_button(self) -> MacOSButton:\n",
    "        return MacOSButton()\n",
    "\n",
    "\n",
    "class LinuxCreator(UIElementCreator):\n",
    "    def create_button(self) -> LinuxButton:\n",
    "        return LinuxButton()\n",
    "\n",
    "windows_creator = WindowsCreator()\n",
    "windows_creator.display_dialog()\n"
   ]
  }
 ],
 "metadata": {
  "kernelspec": {
   "display_name": "venv",
   "language": "python",
   "name": "python3"
  },
  "language_info": {
   "codemirror_mode": {
    "name": "ipython",
    "version": 3
   },
   "file_extension": ".py",
   "mimetype": "text/x-python",
   "name": "python",
   "nbconvert_exporter": "python",
   "pygments_lexer": "ipython3",
   "version": "3.13.1"
  }
 },
 "nbformat": 4,
 "nbformat_minor": 5
}
