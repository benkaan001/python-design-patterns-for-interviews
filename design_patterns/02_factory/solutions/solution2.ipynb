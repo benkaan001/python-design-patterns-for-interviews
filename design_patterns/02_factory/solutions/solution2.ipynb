{
 "cells": [
  {
   "cell_type": "code",
   "execution_count": 1,
   "id": "094b9151",
   "metadata": {},
   "outputs": [
    {
     "data": {
      "text/plain": [
       "'Dispatching notification: Sending email: Email test 1,2,3,...'"
      ]
     },
     "execution_count": 1,
     "metadata": {},
     "output_type": "execute_result"
    }
   ],
   "source": [
    "from abc import ABC, abstractmethod\n",
    "\n",
    "class Notification(ABC):\n",
    "    @abstractmethod\n",
    "    def send(self, message: str) -> str:\n",
    "        pass\n",
    "\n",
    "class EmailNotification(Notification):\n",
    "    def send(self, message: str) -> str:\n",
    "        return f\"Sending email: {message}\"\n",
    "\n",
    "class SMSNotification(Notification):\n",
    "    def send(self, message: str) -> str:\n",
    "        return f\"Sending SMS: {message}\"\n",
    "\n",
    "class PushNotification(Notification):\n",
    "    def send(self, message: str) -> str:\n",
    "        return f\"Sending push notification: {message}\"\n",
    "\n",
    "class NotificationCreator(ABC):\n",
    "    @abstractmethod\n",
    "    def create_notification(self) -> Notification:\n",
    "        pass\n",
    "\n",
    "    def dispatch_notification(self, message: str) -> str:\n",
    "        notification = self.create_notification()\n",
    "        msg = notification.send(message)\n",
    "        return f\"Dispatching notification: {msg}\"\n",
    "\n",
    "class EmailNotificationCreator(NotificationCreator):\n",
    "    def create_notification(self) -> EmailNotification:\n",
    "        return EmailNotification()\n",
    "\n",
    "class SMSNotificationCreator(NotificationCreator):\n",
    "    def create_notification(self) -> SMSNotification:\n",
    "        return SMSNotification()\n",
    "\n",
    "class PushNotificationCreator(NotificationCreator):\n",
    "    def create_notification(self) -> PushNotification:\n",
    "        return PushNotification()\n",
    "\n",
    "\n",
    "email_creator = EmailNotificationCreator()\n",
    "email_creator.dispatch_notification(message='Email test 1,2,3,...')"
   ]
  },
  {
   "cell_type": "code",
   "execution_count": null,
   "id": "1b976dda",
   "metadata": {},
   "outputs": [
    {
     "name": "stdout",
     "output_type": "stream",
     "text": [
      "Sending email: Welcome to our platform!\n",
      "Sending SMS: Your code is 123456.\n",
      "Sending push notification: You have a new follower!\n"
     ]
    }
   ],
   "source": [
    "from abc import ABC, abstractmethod\n",
    "\n",
    "class Notification(ABC):\n",
    "    @abstractmethod\n",
    "    def send(self, message: str) -> str:\n",
    "        \"\"\"Simulate sending a notification and return a confirmation string.\"\"\"\n",
    "        pass\n",
    "\n",
    "class EmailNotification(Notification):\n",
    "    def send(self, message: str) -> str:\n",
    "        return f\"Sending email: {message}\"\n",
    "\n",
    "class SMSNotification(Notification):\n",
    "    def send(self, message: str) -> str:\n",
    "        return f\"Sending SMS: {message}\"\n",
    "\n",
    "class PushNotification(Notification):\n",
    "    def send(self, message: str) -> str:\n",
    "        return f\"Sending push notification: {message}\"\n",
    "\n",
    "\n",
    "class NotificationCreator(ABC):\n",
    "    @abstractmethod\n",
    "    def create_notification(self) -> Notification:\n",
    "        \"\"\"Factory method to create a Notification object.\"\"\"\n",
    "        pass\n",
    "\n",
    "    def dispatch_notification(self, message: str) -> str:\n",
    "        notification = self.create_notification()\n",
    "        return notification.send(message)  # Return only the send result for clarity\n",
    "\n",
    "class EmailNotificationCreator(NotificationCreator):\n",
    "    def create_notification(self) -> Notification:\n",
    "        return EmailNotification()\n",
    "\n",
    "class SMSNotificationCreator(NotificationCreator):\n",
    "    def create_notification(self) -> Notification:\n",
    "        return SMSNotification()\n",
    "\n",
    "class PushNotificationCreator(NotificationCreator):\n",
    "    def create_notification(self) -> Notification:\n",
    "        return PushNotification()\n",
    "\n",
    "\n",
    "if __name__ == \"__main__\":\n",
    "    creators = [\n",
    "        EmailNotificationCreator(),\n",
    "        SMSNotificationCreator(),\n",
    "        PushNotificationCreator()\n",
    "    ]\n",
    "    messages = [\n",
    "        \"Welcome to our platform!\",\n",
    "        \"Your code is 123456.\",\n",
    "        \"You have a new follower!\"\n",
    "    ]\n",
    "    for creator, msg in zip(creators, messages):\n",
    "        print(creator.dispatch_notification(msg))"
   ]
  }
 ],
 "metadata": {
  "kernelspec": {
   "display_name": "venv",
   "language": "python",
   "name": "python3"
  },
  "language_info": {
   "codemirror_mode": {
    "name": "ipython",
    "version": 3
   },
   "file_extension": ".py",
   "mimetype": "text/x-python",
   "name": "python",
   "nbconvert_exporter": "python",
   "pygments_lexer": "ipython3",
   "version": "3.13.1"
  }
 },
 "nbformat": 4,
 "nbformat_minor": 5
}
